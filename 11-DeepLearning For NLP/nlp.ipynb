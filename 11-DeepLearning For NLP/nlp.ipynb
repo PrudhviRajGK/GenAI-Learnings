{
 "cells": [
  {
   "cell_type": "markdown",
   "metadata": {},
   "source": [
    "### NLP In Deep Learning"
   ]
  },
  {
   "cell_type": "markdown",
   "metadata": {},
   "source": [
    "* One Hot Encoding\n",
    "* Bag Of Words\n",
    "* TF-IDF\n",
    "* Word2Vec and AvgWord2Vec\n"
   ]
  },
  {
   "cell_type": "markdown",
   "metadata": {},
   "source": []
  }
 ],
 "metadata": {
  "language_info": {
   "name": "python"
  }
 },
 "nbformat": 4,
 "nbformat_minor": 2
}
