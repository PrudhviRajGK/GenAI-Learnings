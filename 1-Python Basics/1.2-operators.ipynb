{
 "cells": [
  {
   "cell_type": "markdown",
   "metadata": {},
   "source": [
    " Some New Heard Arithmatic Operations In Python\n"
   ]
  },
  {
   "cell_type": "code",
   "execution_count": 4,
   "metadata": {},
   "outputs": [
    {
     "name": "stdout",
     "output_type": "stream",
     "text": [
      "2\n",
      "161051\n"
     ]
    }
   ],
   "source": [
    "## Arithamatic Operation\n",
    "\n",
    "a=11\n",
    "b=5\n",
    "floor_div_result=a//b ## floor division\n",
    "exponent_result=a**b ## Exponentiation\n",
    "print(floor_div_result)\n",
    "print(exponent_result)"
   ]
  },
  {
   "cell_type": "code",
   "execution_count": null,
   "metadata": {},
   "outputs": [],
   "source": [
    "#Not operator\n",
    "X=True\n",
    "not X ## NOT IS THE INVERSE OF A BOOLEAN FUNCTION"
   ]
  },
  {
   "cell_type": "code",
   "execution_count": null,
   "metadata": {},
   "outputs": [],
   "source": [
    "## Simple Calculator\n",
    "\n",
    "# Simple calculator\n",
    "num1 = float(input(\"Enter first number:\"))\n",
    "num2 = float(input(\"Enter second number:\"))\n",
    "\n",
    "# Performing arithmetic operations\n",
    "addition = num1 + num2\n",
    "subtraction = num1 - num2\n",
    "multiplication = num1 * num2\n",
    "division = num1 / num2\n",
    "floor_division = num1 // num2\n",
    "modulus = num1 % num2\n",
    "exponentiation = num1 ** num2\n",
    "\n",
    "# Displaying results\n",
    "print(\"Addition:\",addition)\n",
    "print(\"Subtraction:\",subtraction)\n",
    "print(\"Multiplication:\",multiplication)\n",
    "print(\"Division:\",division)\n",
    "print(\"Modulus:\",modulus)\n",
    "print(\"Exponentiation:\",exponentiation)"
   ]
  }
 ],
 "metadata": {
  "kernelspec": {
   "display_name": "venv",
   "language": "python",
   "name": "python3"
  },
  "language_info": {
   "codemirror_mode": {
    "name": "ipython",
    "version": 3
   },
   "file_extension": ".py",
   "mimetype": "text/x-python",
   "name": "python",
   "nbconvert_exporter": "python",
   "pygments_lexer": "ipython3",
   "version": "3.12.0"
  }
 },
 "nbformat": 4,
 "nbformat_minor": 2
}
