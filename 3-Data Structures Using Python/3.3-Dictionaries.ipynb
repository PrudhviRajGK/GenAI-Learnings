{
 "cells": [
  {
   "cell_type": "markdown",
   "metadata": {},
   "source": [
    "Dictionaries"
   ]
  },
  {
   "cell_type": "markdown",
   "metadata": {},
   "source": [
    "1. Introduction to Dictionaries\n",
    "2. Creating Dictionaries\n",
    "3. Accessing Dictionary Elements\n",
    "4. Modifying Dictionary Elements\n",
    "6. Iterating Over Dictionaries\n",
    "7. Nested Dictionaries\n",
    "8. Dictionary Comprehensions\n",
    "9. Practical Examples and Common Errors"
   ]
  },
  {
   "cell_type": "markdown",
   "metadata": {},
   "source": [
    "Introduction To Dictionaries\n",
    "\n",
    "Dictionaries are unordered collection of items. They store data in key-value pairs.Keys must be unique and immutable ( e.g. strings, numbers, or tuples), which values can be of any type"
   ]
  },
  {
   "cell_type": "code",
   "execution_count": 1,
   "metadata": {},
   "outputs": [
    {
     "name": "stdout",
     "output_type": "stream",
     "text": [
      "<class 'dict'>\n"
     ]
    }
   ],
   "source": [
    "## Creating Dictionaries\n",
    "empty_dict={}\n",
    "print(type(empty_dict))"
   ]
  },
  {
   "cell_type": "code",
   "execution_count": 2,
   "metadata": {},
   "outputs": [
    {
     "data": {
      "text/plain": [
       "{}"
      ]
     },
     "execution_count": 2,
     "metadata": {},
     "output_type": "execute_result"
    }
   ],
   "source": [
    "empty_dict=dict()\n",
    "empty_dict"
   ]
  },
  {
   "cell_type": "code",
   "execution_count": null,
   "metadata": {},
   "outputs": [
    {
     "name": "stdout",
     "output_type": "stream",
     "text": [
      "{'name': 'gk', 'age': 19, 'grade': 2}\n"
     ]
    }
   ],
   "source": [
    "student={\"name\":\"gk\",\"age\":19,\"grade\":2}\n",
    "print(student)\n",
    "print(type(student))"
   ]
  },
  {
   "cell_type": "code",
   "execution_count": null,
   "metadata": {},
   "outputs": [
    {
     "name": "stdout",
     "output_type": "stream",
     "text": [
      "dict_keys(['name', 'age', 'grade'])\n",
      "dict_values(['gk', 19, 2])\n",
      "dict_items([('name', 'gk'), ('age', 19), ('grade', 2)])\n"
     ]
    }
   ],
   "source": [
    "## Dictionary Methods\n",
    "\n",
    "keys=student.keys() ## get all the keys\n",
    "print(keys)\n",
    "values=student.values() ##get all the values\n",
    "print(values)\n",
    "\n",
    "##to get all key value pairs in terms of items\n",
    "\n",
    "items=student.items() ## get all value pairs\n",
    "print(items)\n"
   ]
  },
  {
   "cell_type": "code",
   "execution_count": null,
   "metadata": {},
   "outputs": [
    {
     "name": "stdout",
     "output_type": "stream",
     "text": [
      "{'name': 'gk', 'age': 19, 'grade': 2}\n",
      "{'name': 'gk', 'age': 19, 'grade': 2}\n"
     ]
    }
   ],
   "source": [
    "## shallow copy\n",
    "student_copy=student\n",
    "print(student)\n",
    "print(student_copy) ## but here if u change student after this line student_copy will change"
   ]
  },
  {
   "cell_type": "code",
   "execution_count": null,
   "metadata": {},
   "outputs": [
    {
     "name": "stdout",
     "output_type": "stream",
     "text": [
      "{'name': 'gk', 'age': 19, 'grade': 2}\n",
      "{'name': 'gk', 'age': 19, 'grade': 2}\n",
      "{'name': 'gk', 'age': 19, 'grade': 2}\n",
      "{'name': 'gk2', 'age': 19, 'grade': 2}\n"
     ]
    }
   ],
   "source": [
    "student_copy1=student.copy() ## shallow copy\n",
    "print(student_copy1)\n",
    "print(student)\n",
    "\n",
    "student[\"name\"]=\"gk2\"\n",
    "\n",
    "print(student_copy1)\n",
    "print(student)\n"
   ]
  },
  {
   "cell_type": "code",
   "execution_count": 10,
   "metadata": {},
   "outputs": [
    {
     "name": "stdout",
     "output_type": "stream",
     "text": [
      "name\n",
      "age\n",
      "grade\n"
     ]
    }
   ],
   "source": [
    "### Iterating Over Dictionaries\n",
    "## You can use loops to iterate over dictionaries , keys , values or items\n",
    "\n",
    "## ITERATING OVER KEYS\n",
    "for keys in student.keys():\n",
    "    print(keys)\n"
   ]
  },
  {
   "cell_type": "code",
   "execution_count": 12,
   "metadata": {},
   "outputs": [
    {
     "name": "stdout",
     "output_type": "stream",
     "text": [
      "gk2\n",
      "19\n",
      "2\n"
     ]
    }
   ],
   "source": [
    "## Iterate over values\n",
    "for values in student.values():\n",
    "    print(values)"
   ]
  },
  {
   "cell_type": "code",
   "execution_count": 14,
   "metadata": {},
   "outputs": [
    {
     "name": "stdout",
     "output_type": "stream",
     "text": [
      "name:gk2\n",
      "age:19\n",
      "grade:2\n"
     ]
    }
   ],
   "source": [
    "### Iterate Over key value pairs\n",
    "\n",
    "for key,value in student.items():\n",
    "    print(f\"{key}:{value}\")"
   ]
  },
  {
   "cell_type": "code",
   "execution_count": 19,
   "metadata": {},
   "outputs": [
    {
     "name": "stdout",
     "output_type": "stream",
     "text": [
      "{'student1': {'name': 'gk', 'age': 19}, 'student2': {'name': 'gk2', 'age': 20}}\n"
     ]
    }
   ],
   "source": [
    "## Nested Disctionaries\n",
    "students={\n",
    "    \"student1\":{\"name\":\"gk\",\"age\":19},\n",
    "    \"student2\":{\"name\":\"gk2\",\"age\":20}\n",
    "}\n",
    "print(students)"
   ]
  },
  {
   "cell_type": "code",
   "execution_count": 20,
   "metadata": {},
   "outputs": [
    {
     "name": "stdout",
     "output_type": "stream",
     "text": [
      "gk2\n",
      "20\n"
     ]
    }
   ],
   "source": [
    "## Access nested Dictionary elements\n",
    "print(students[\"student2\"][\"name\"])\n",
    "print(students[\"student2\"][\"age\"])"
   ]
  },
  {
   "cell_type": "code",
   "execution_count": 21,
   "metadata": {},
   "outputs": [
    {
     "name": "stdout",
     "output_type": "stream",
     "text": [
      "student1:{'name': 'gk', 'age': 19}\n",
      "name:gk\n",
      "age:19\n",
      "student2:{'name': 'gk2', 'age': 20}\n",
      "name:gk2\n",
      "age:20\n"
     ]
    }
   ],
   "source": [
    "## Iterating Over Nested Dictionaries\n",
    "for student_id,student_info in students.items():\n",
    "    print(f\"{student_id}:{student_info}\")\n",
    "    for key,value in student_info.items():\n",
    "        print(f\"{key}:{value}\")\n"
   ]
  },
  {
   "cell_type": "code",
   "execution_count": 22,
   "metadata": {},
   "outputs": [
    {
     "name": "stdout",
     "output_type": "stream",
     "text": [
      "{0: 0, 1: 1, 2: 4, 3: 9, 4: 16}\n"
     ]
    }
   ],
   "source": [
    "## Dictionary Comphrenhension\n",
    "squares={x:x**2 for x in range(5)}\n",
    "print(squares)\n"
   ]
  },
  {
   "cell_type": "code",
   "execution_count": 23,
   "metadata": {},
   "outputs": [
    {
     "name": "stdout",
     "output_type": "stream",
     "text": [
      "{0: 0, 2: 4, 4: 16, 6: 36, 8: 64}\n"
     ]
    }
   ],
   "source": [
    "## Condition Dictionary Comprehension\n",
    "\n",
    "even={x:x**2 for x in range(10) if x%2==0}\n",
    "print(even)"
   ]
  },
  {
   "cell_type": "code",
   "execution_count": 25,
   "metadata": {},
   "outputs": [
    {
     "name": "stdout",
     "output_type": "stream",
     "text": [
      "{1: 1, 2: 2, 3: 3, 4: 4}\n"
     ]
    }
   ],
   "source": [
    "## Practical examples\n",
    "\n",
    "## Use a dictionary to count the frequency of elements in list\n",
    "\n",
    "numbers=[1,2,2,3,3,3,4,4,4,4]\n",
    "frequncy={}\n",
    "\n",
    "for number in numbers:\n",
    "    if number in frequncy:\n",
    "        frequncy[number]+=1\n",
    "    else:\n",
    "        frequncy[number]=1\n",
    "print(frequncy)"
   ]
  },
  {
   "cell_type": "code",
   "execution_count": 30,
   "metadata": {},
   "outputs": [
    {
     "name": "stdout",
     "output_type": "stream",
     "text": [
      "{'a': 1, 'b': 3, 'c': 4}\n"
     ]
    }
   ],
   "source": [
    "## Merge 2 dictionaries into one\n",
    "\n",
    "dict1={\"a\":1,\"b\":2}\n",
    "dict2={\"b\":3,\"c\":4}\n",
    "\n",
    "merged_dict={**dict1,**dict2}\n",
    "print(merged_dict)"
   ]
  }
 ],
 "metadata": {
  "kernelspec": {
   "display_name": "venv",
   "language": "python",
   "name": "python3"
  },
  "language_info": {
   "codemirror_mode": {
    "name": "ipython",
    "version": 3
   },
   "file_extension": ".py",
   "mimetype": "text/x-python",
   "name": "python",
   "nbconvert_exporter": "python",
   "pygments_lexer": "ipython3",
   "version": "3.12.0"
  }
 },
 "nbformat": 4,
 "nbformat_minor": 2
}
